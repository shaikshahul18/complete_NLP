{
 "cells": [
  {
   "cell_type": "code",
   "execution_count": 2,
   "metadata": {},
   "outputs": [],
   "source": [
    "import numpy as np"
   ]
  },
  {
   "cell_type": "code",
   "execution_count": 2,
   "metadata": {},
   "outputs": [
    {
     "name": "stdout",
     "output_type": "stream",
     "text": [
      "[[11  3 15 13 13]\n",
      " [15 10  1 11  1]\n",
      " [ 5  7 15  7 18]\n",
      " [19 10 18 11  3]\n",
      " [ 6 20  3 15 19]]\n"
     ]
    }
   ],
   "source": [
    "array = np.random.randint(1,21, size = (5,5))\n",
    "print(array)"
   ]
  },
  {
   "cell_type": "code",
   "execution_count": 3,
   "metadata": {},
   "outputs": [
    {
     "name": "stdout",
     "output_type": "stream",
     "text": [
      "[[11  3  1 13 13]\n",
      " [15 10  1 11  1]\n",
      " [ 5  7  1  7 18]\n",
      " [19 10  1 11  3]\n",
      " [ 6 20  1 15 19]]\n"
     ]
    }
   ],
   "source": [
    "array[:,2] = 1\n",
    "print(array)"
   ]
  },
  {
   "cell_type": "code",
   "execution_count": 4,
   "metadata": {},
   "outputs": [
    {
     "name": "stdout",
     "output_type": "stream",
     "text": [
      "[[ 6 13  6  1]\n",
      " [13 15 14  2]\n",
      " [ 8  3 13 15]\n",
      " [ 5  3 14  3]]\n"
     ]
    }
   ],
   "source": [
    "array = np.random.randint(1,16,size = (4,4))\n",
    "print(array)"
   ]
  },
  {
   "cell_type": "code",
   "execution_count": 6,
   "metadata": {},
   "outputs": [
    {
     "name": "stdout",
     "output_type": "stream",
     "text": [
      "[[ 0 13  6  1]\n",
      " [13  0 14  2]\n",
      " [ 8  3  0 15]\n",
      " [ 5  3 14  0]]\n"
     ]
    }
   ],
   "source": [
    "np.fill_diagonal(array,0)\n",
    "print(array)"
   ]
  },
  {
   "cell_type": "code",
   "execution_count": 7,
   "metadata": {},
   "outputs": [
    {
     "name": "stdout",
     "output_type": "stream",
     "text": [
      "[[ 1  2  3  4  5  6]\n",
      " [ 7  8  9 10 11 12]\n",
      " [13 14 15 16 17 18]\n",
      " [19 20 21 22 23 24]\n",
      " [25 26 27 28 29 30]\n",
      " [31 32 33 34 35 36]]\n"
     ]
    }
   ],
   "source": [
    "array = np.arange(1,37).reshape(6,6)\n",
    "print(array)"
   ]
  },
  {
   "cell_type": "code",
   "execution_count": 8,
   "metadata": {},
   "outputs": [
    {
     "data": {
      "text/plain": [
       "array([[21, 22, 23],\n",
       "       [27, 28, 29],\n",
       "       [33, 34, 35]])"
      ]
     },
     "execution_count": 8,
     "metadata": {},
     "output_type": "execute_result"
    }
   ],
   "source": [
    "array[3:6,2:5]"
   ]
  },
  {
   "cell_type": "code",
   "execution_count": 18,
   "metadata": {},
   "outputs": [
    {
     "name": "stdout",
     "output_type": "stream",
     "text": [
      "[15 20 13 15 16]\n",
      "[13 11 10  8 11]\n",
      "[15 20  7 11 13]\n",
      "[16  8 21  1 11]\n",
      "[15 20 13 15 16 13 11 10  8 11 20  7 11  8 21  1]\n"
     ]
    }
   ],
   "source": [
    "array = np.random.randint(1,25,size=(5,5))\n",
    "# print(array)\n",
    "border_elements = np.concatenate((array[0,:],array[-1,:],array[1:-1,0],array[1:-1,-1]))\n",
    "print(array[0,:])\n",
    "print(array[-1,:])\n",
    "print(array[:,0])\n",
    "print(array[:,-1])\n",
    "# border_elements = np.concatenate((array[0, :], array[-1, :], array[1:-1, 0], array[1:-1, -1]))\n",
    "print(border_elements)"
   ]
  },
  {
   "cell_type": "code",
   "execution_count": 19,
   "metadata": {},
   "outputs": [
    {
     "name": "stdout",
     "output_type": "stream",
     "text": [
      "[[12  9 11  7]\n",
      " [10 15 19 13]\n",
      " [ 9 14  9 23]]\n",
      "[[ 4 -7  9 -3]\n",
      " [ 8 -1  3  5]\n",
      " [-7 -6 -5  1]]\n",
      "[[ 32   8  10  10]\n",
      " [  9  56  88  36]\n",
      " [  8  40  14 132]]\n",
      "[[ 2.          0.125      10.          0.4       ]\n",
      " [ 9.          0.875       1.375       2.25      ]\n",
      " [ 0.125       0.4         0.28571429  1.09090909]]\n"
     ]
    }
   ],
   "source": [
    "arr1 = np.random.randint(1,13,size=(3,4))\n",
    "arr2 = np.random.randint(1,13,size=(3,4))\n",
    "\n",
    "#element wise operation\n",
    "print(arr1 + arr2)\n",
    "print(arr1 - arr2)\n",
    "print(arr1 * arr2)\n",
    "print(arr1 / arr2)"
   ]
  },
  {
   "cell_type": "code",
   "execution_count": null,
   "metadata": {},
   "outputs": [
    {
     "name": "stdout",
     "output_type": "stream",
     "text": [
      "[[ 1  2  3  4]\n",
      " [ 5  6  7  8]\n",
      " [ 9 10 11 12]\n",
      " [13 14 15 16]]\n",
      "[10 26 42 58]\n",
      "[28 32 36 40]\n"
     ]
    }
   ],
   "source": [
    "array = np.arange(1,17).reshape(4,4)\n",
    "print(array)\n",
    "print(np.sum(array, axis=1)) #column\n",
    "print(np.sum(array, axis=0)) #row"
   ]
  },
  {
   "cell_type": "code",
   "execution_count": 23,
   "metadata": {},
   "outputs": [
    {
     "name": "stdout",
     "output_type": "stream",
     "text": [
      "[[ 9  6 20 19  6]\n",
      " [20  8  1 13 11]\n",
      " [ 3  2 17 15 10]\n",
      " [ 6 15 12 13  5]\n",
      " [ 6  6 15 10  2]]\n"
     ]
    }
   ],
   "source": [
    "arr = np.random.randint(1,21,size=(5,5))\n",
    "print(arr)"
   ]
  },
  {
   "cell_type": "code",
   "execution_count": 25,
   "metadata": {},
   "outputs": [
    {
     "name": "stdout",
     "output_type": "stream",
     "text": [
      "10.0 10.0 5.642694391866354 31.84\n"
     ]
    }
   ],
   "source": [
    "mean = np.mean(arr)\n",
    "median = np.median(arr)\n",
    "std_dev = np.std(arr)\n",
    "var = np.var(arr)\n",
    "print(mean, median, std_dev, var)"
   ]
  },
  {
   "cell_type": "code",
   "execution_count": 3,
   "metadata": {},
   "outputs": [
    {
     "name": "stdout",
     "output_type": "stream",
     "text": [
      "-9.51619735392994e-16\n",
      "[[-4.50359963e+15  9.00719925e+15 -4.50359963e+15]\n",
      " [ 9.00719925e+15 -1.80143985e+16  9.00719925e+15]\n",
      " [-4.50359963e+15  9.00719925e+15 -4.50359963e+15]]\n",
      "[ 1.61168440e+01 -1.11684397e+00 -4.29954797e-16]\n"
     ]
    }
   ],
   "source": [
    "matrix = np.arange(1,10).reshape(3,3)\n",
    "print(np.linalg.det(matrix))\n",
    "print(np.linalg.inv(matrix))\n",
    "print(np.linalg.eigvals(matrix))"
   ]
  },
  {
   "cell_type": "code",
   "execution_count": null,
   "metadata": {},
   "outputs": [
    {
     "name": "stdout",
     "output_type": "stream",
     "text": [
      "[[84 75]\n",
      " [57 54]]\n"
     ]
    }
   ],
   "source": [
    "mat1 = np.random.randint(1,11,size=(2,3))\n",
    "mat2 = np.random.randint(1,11,size=(3,2))\n",
    "print(np.dot(mat1,mat2))\n",
    "\n",
    "#matrix multiplication"
   ]
  },
  {
   "cell_type": "code",
   "execution_count": 5,
   "metadata": {},
   "outputs": [
    {
     "name": "stdout",
     "output_type": "stream",
     "text": [
      "[[1 6 2]\n",
      " [8 1 6]\n",
      " [8 5 4]]\n",
      "[[1 6 2 8 1 6 8 5 4]]\n",
      "[[1]\n",
      " [6]\n",
      " [2]\n",
      " [8]\n",
      " [1]\n",
      " [6]\n",
      " [8]\n",
      " [5]\n",
      " [4]]\n"
     ]
    }
   ],
   "source": [
    "matrix = np.random.randint(1,10,size=(3,3))\n",
    "print(matrix)\n",
    "print(matrix.reshape(1,9))\n",
    "print(matrix.reshape(9,1))"
   ]
  },
  {
   "cell_type": "code",
   "execution_count": 6,
   "metadata": {},
   "outputs": [
    {
     "name": "stdout",
     "output_type": "stream",
     "text": [
      "[[22  6 19  3  7]\n",
      " [ 2 15  3 10  6]\n",
      " [ 6  9 23  1 11]\n",
      " [12 15 19 17  4]\n",
      " [17 17  1  7  2]]\n"
     ]
    }
   ],
   "source": [
    "matrix = np.random.randint(1,26,size=(5,5))\n",
    "print(matrix)"
   ]
  },
  {
   "cell_type": "code",
   "execution_count": 7,
   "metadata": {},
   "outputs": [
    {
     "name": "stdout",
     "output_type": "stream",
     "text": [
      "[22  6 19  3  7  2 15  3 10  6  6  9 23  1 11 12 15 19 17  4 17 17  1  7\n",
      "  2]\n"
     ]
    }
   ],
   "source": [
    "print(matrix.flatten())"
   ]
  },
  {
   "cell_type": "code",
   "execution_count": 8,
   "metadata": {},
   "outputs": [
    {
     "name": "stdout",
     "output_type": "stream",
     "text": [
      "[[22  6 19  3  7]\n",
      " [ 2 15  3 10  6]\n",
      " [ 6  9 23  1 11]\n",
      " [12 15 19 17  4]\n",
      " [17 17  1  7  2]]\n"
     ]
    }
   ],
   "source": [
    "print(matrix.flatten().reshape(5,5))"
   ]
  },
  {
   "cell_type": "code",
   "execution_count": 9,
   "metadata": {},
   "outputs": [
    {
     "data": {
      "text/plain": [
       "array([[22,  6, 19,  3,  7],\n",
       "       [ 2, 15,  3, 10,  6],\n",
       "       [ 6,  9, 23,  1, 11],\n",
       "       [12, 15, 19, 17,  4],\n",
       "       [17, 17,  1,  7,  2]])"
      ]
     },
     "execution_count": 9,
     "metadata": {},
     "output_type": "execute_result"
    }
   ],
   "source": [
    "matrix"
   ]
  },
  {
   "cell_type": "code",
   "execution_count": 10,
   "metadata": {},
   "outputs": [
    {
     "data": {
      "text/plain": [
       "array([22,  7, 17,  2])"
      ]
     },
     "execution_count": 10,
     "metadata": {},
     "output_type": "execute_result"
    }
   ],
   "source": [
    "matrix[[0,0,-1,-1],[0,-1,0,-1]]"
   ]
  },
  {
   "cell_type": "code",
   "execution_count": 12,
   "metadata": {},
   "outputs": [
    {
     "name": "stdout",
     "output_type": "stream",
     "text": [
      "[[12  7 10 14]\n",
      " [ 5  5  8  2]\n",
      " [ 8 12  3 13]\n",
      " [ 4 11  1  7]]\n",
      "[[10  7 10 10]\n",
      " [ 5  5  8  2]\n",
      " [ 8 10  3 10]\n",
      " [ 4 10  1  7]]\n"
     ]
    }
   ],
   "source": [
    "matrix = np.random.randint(1,17,size=(4,4))\n",
    "print(matrix)\n",
    "matrix[matrix > 10] = 10\n",
    "print(matrix)"
   ]
  },
  {
   "cell_type": "code",
   "execution_count": 13,
   "metadata": {},
   "outputs": [
    {
     "name": "stdout",
     "output_type": "stream",
     "text": [
      "[('Alice', 25, 55.5) ('Bob', 30, 85.3) ('Charlie', 20, 65.2)]\n"
     ]
    }
   ],
   "source": [
    "data_type = [(\"Name\",\"U10\"),(\"Age\",\"i4\"),(\"Weight\",\"f4\")]\n",
    "data = np.array([(\"Alice\",25,55.5),(\"Bob\",30,85.3),(\"Charlie\",20,65.2)],dtype=data_type)\n",
    "print(data)"
   ]
  },
  {
   "cell_type": "code",
   "execution_count": 15,
   "metadata": {},
   "outputs": [
    {
     "name": "stdout",
     "output_type": "stream",
     "text": [
      "[('Charlie', 20, 65.2) ('Alice', 25, 55.5) ('Bob', 30, 85.3)]\n"
     ]
    }
   ],
   "source": [
    "sorted_data = np.sort(data,order=\"Age\")\n",
    "print(sorted_data)"
   ]
  },
  {
   "cell_type": "code",
   "execution_count": 31,
   "metadata": {},
   "outputs": [],
   "source": [
    "data_type = [(\"x\",\"i4\"),(\"y\",\"i4\")]\n",
    "data = np.array([(2,3),(4,5)], dtype = data_type)"
   ]
  },
  {
   "cell_type": "code",
   "execution_count": 32,
   "metadata": {},
   "outputs": [
    {
     "data": {
      "text/plain": [
       "array([2, 4], dtype=int32)"
      ]
     },
     "execution_count": 32,
     "metadata": {},
     "output_type": "execute_result"
    }
   ],
   "source": [
    "data[\"x\"]"
   ]
  },
  {
   "cell_type": "code",
   "execution_count": 33,
   "metadata": {},
   "outputs": [
    {
     "data": {
      "text/plain": [
       "array([3, 5], dtype=int32)"
      ]
     },
     "execution_count": 33,
     "metadata": {},
     "output_type": "execute_result"
    }
   ],
   "source": [
    "data[\"y\"]"
   ]
  },
  {
   "cell_type": "code",
   "execution_count": 38,
   "metadata": {},
   "outputs": [
    {
     "name": "stdout",
     "output_type": "stream",
     "text": [
      "[1 3 5]\n"
     ]
    }
   ],
   "source": [
    "# Create a structured array with fields 'x' and 'y'\n",
    "data_type = [('x', 'i4'), ('y', 'i4')]\n",
    "data = np.array([(1, 2), (3, 4), (5, 6)], dtype=data_type)\n",
    "print(data[\"x\"])"
   ]
  },
  {
   "cell_type": "code",
   "execution_count": 39,
   "metadata": {},
   "outputs": [
    {
     "name": "stdout",
     "output_type": "stream",
     "text": [
      "[[1]\n",
      " [3]\n",
      " [5]]\n",
      "[1 3 5]\n",
      "[[2]\n",
      " [4]\n",
      " [6]]\n",
      "[2 4 6]\n"
     ]
    }
   ],
   "source": [
    "print(data[\"x\"][:,np.newaxis])\n",
    "print(data[\"x\"])\n",
    "print(data[\"y\"][:,np.newaxis])\n",
    "print(data[\"y\"])"
   ]
  },
  {
   "cell_type": "code",
   "execution_count": 48,
   "metadata": {},
   "outputs": [
    {
     "name": "stdout",
     "output_type": "stream",
     "text": [
      "[[ 0 -2 -4]\n",
      " [ 2  0 -2]\n",
      " [ 4  2  0]]\n",
      "[[ 0  4 16]\n",
      " [ 4  0  4]\n",
      " [16  4  0]]\n"
     ]
    }
   ],
   "source": [
    "a = (data['x'][:,np.newaxis] - data[\"x\"])\n",
    "print(a)\n",
    "print(a ** 2)"
   ]
  },
  {
   "cell_type": "code",
   "execution_count": 49,
   "metadata": {},
   "outputs": [
    {
     "name": "stdout",
     "output_type": "stream",
     "text": [
      "[[ 0 -2 -4]\n",
      " [ 2  0 -2]\n",
      " [ 4  2  0]]\n",
      "[[ 0  4 16]\n",
      " [ 4  0  4]\n",
      " [16  4  0]]\n"
     ]
    }
   ],
   "source": [
    "b = (data[\"y\"][:,np.newaxis] - data[\"y\"])\n",
    "print(b)\n",
    "print(b ** 2)"
   ]
  },
  {
   "cell_type": "code",
   "execution_count": 50,
   "metadata": {},
   "outputs": [
    {
     "data": {
      "text/plain": [
       "array([[0.        , 2.82842712, 5.65685425],\n",
       "       [2.82842712, 0.        , 2.82842712],\n",
       "       [5.65685425, 2.82842712, 0.        ]])"
      ]
     },
     "execution_count": 50,
     "metadata": {},
     "output_type": "execute_result"
    }
   ],
   "source": [
    "np.sqrt(a**2+b**2)"
   ]
  },
  {
   "cell_type": "code",
   "execution_count": 47,
   "metadata": {},
   "outputs": [
    {
     "data": {
      "text/plain": [
       "array([(1, 2), (3, 4), (5, 6)], dtype=[('x', '<i4'), ('y', '<i4')])"
      ]
     },
     "execution_count": 47,
     "metadata": {},
     "output_type": "execute_result"
    }
   ],
   "source": [
    "data"
   ]
  },
  {
   "cell_type": "code",
   "execution_count": 52,
   "metadata": {},
   "outputs": [
    {
     "name": "stdout",
     "output_type": "stream",
     "text": [
      "[[10  4 10 10]\n",
      " [14  3 16 12]\n",
      " [12  9 10  7]\n",
      " [ 1 14  7  1]]\n",
      "[[10 4 10 10]\n",
      " [-- 3 -- --]\n",
      " [-- 9 10 7]\n",
      " [1 -- 7 1]]\n",
      "72\n"
     ]
    }
   ],
   "source": [
    "import numpy.ma as ma\n",
    "\n",
    "array = np.random.randint(1,17,size=(4,4))\n",
    "masked_array = ma.masked_greater(array,10)\n",
    "print(array)\n",
    "print(masked_array)\n",
    "\n",
    "sum_unmasked = masked_array.sum()\n",
    "print(sum_unmasked)"
   ]
  },
  {
   "cell_type": "code",
   "execution_count": 53,
   "metadata": {},
   "outputs": [
    {
     "name": "stdout",
     "output_type": "stream",
     "text": [
      "[[4 7 4]\n",
      " [7 3 5]\n",
      " [8 1 6]]\n",
      "[[-- 7 4]\n",
      " [7 -- 5]\n",
      " [8 1 --]]\n"
     ]
    }
   ],
   "source": [
    "array = np.random.randint(1,10,size=(3,3))\n",
    "masked_array = ma.masked_array(array, mask=np.eye(3, dtype=bool))\n",
    "print(array)\n",
    "print(masked_array)"
   ]
  },
  {
   "cell_type": "code",
   "execution_count": 54,
   "metadata": {},
   "outputs": [
    {
     "name": "stdout",
     "output_type": "stream",
     "text": [
      "[[5 7 4]\n",
      " [7 5 5]\n",
      " [8 1 5]]\n"
     ]
    }
   ],
   "source": [
    "mean_unmasked = masked_array.mean()\n",
    "masked_array = masked_array.filled(mean_unmasked)\n",
    "print(masked_array)"
   ]
  },
  {
   "cell_type": "code",
   "execution_count": null,
   "metadata": {},
   "outputs": [],
   "source": []
  }
 ],
 "metadata": {
  "kernelspec": {
   "display_name": "python_env",
   "language": "python",
   "name": "python3"
  },
  "language_info": {
   "codemirror_mode": {
    "name": "ipython",
    "version": 3
   },
   "file_extension": ".py",
   "mimetype": "text/x-python",
   "name": "python",
   "nbconvert_exporter": "python",
   "pygments_lexer": "ipython3",
   "version": "3.12.5"
  }
 },
 "nbformat": 4,
 "nbformat_minor": 2
}
