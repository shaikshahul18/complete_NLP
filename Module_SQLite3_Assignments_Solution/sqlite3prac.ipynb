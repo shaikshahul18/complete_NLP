{
 "cells": [
  {
   "cell_type": "code",
   "execution_count": 1,
   "metadata": {},
   "outputs": [],
   "source": [
    "import sqlite3"
   ]
  },
  {
   "cell_type": "code",
   "execution_count": 2,
   "metadata": {},
   "outputs": [],
   "source": [
    "#connecting to a sqlite3 db\n",
    "connection = sqlite3.connect(\"example.db\")"
   ]
  },
  {
   "cell_type": "code",
   "execution_count": 3,
   "metadata": {},
   "outputs": [],
   "source": [
    "cursor = connection.cursor()"
   ]
  },
  {
   "cell_type": "code",
   "execution_count": null,
   "metadata": {},
   "outputs": [],
   "source": [
    "# create a table\n",
    "cursor.execute(\n",
    "    \"\"\"\n",
    "CREATE TABLE IF NOT EXISTS employee(\n",
    "    id INT PRIMARY KEY,\n",
    "    name VARCHAR NOT NULL,\n",
    "    age INT,\n",
    "    department text\n",
    ")\n",
    "\"\"\")\n",
    "\n",
    "## Commit the changes\n",
    "connection.commit()"
   ]
  },
  {
   "cell_type": "code",
   "execution_count": 26,
   "metadata": {},
   "outputs": [
    {
     "data": {
      "text/plain": [
       "<sqlite3.Cursor at 0x111bdb040>"
      ]
     },
     "execution_count": 26,
     "metadata": {},
     "output_type": "execute_result"
    }
   ],
   "source": [
    "cursor.execute(\n",
    "    \"\"\"\n",
    "    SELECT *\n",
    "    FROM employee\n",
    "\"\"\"\n",
    ")   \n",
    "cursor"
   ]
  },
  {
   "cell_type": "code",
   "execution_count": 27,
   "metadata": {},
   "outputs": [],
   "source": [
    "#Inserting the data in sqlite3\n",
    "cursor.execute(\"\"\"\n",
    "    INSERT INTO employee(name,age,department) VALUES(\"Shahul\",32,\"Data Scientist\")\"\"\")\n",
    "cursor.execute(\"\"\"\n",
    "    INSERT INTO employee(name,age,department) VALUES(\"Karthik\",31,\"Data Analyst\")\"\"\")\n",
    "cursor.execute(\"\"\"INSERT INTO employee(name,age,department) VALUES(\"Akhil\",30,\"Data Engineer\")\"\"\")\n",
    "cursor.execute(\"\"\"INSERT INTO employee(name,age,department) VALUES(\"Bharat\",29,\"ML Engineer\")\"\"\")\n",
    "cursor.execute(\"\"\"INSERT INTO employee(name,age,department) VALUES(\"Mahi\",28,\"Software Engineer\")\"\"\")\n",
    "cursor.execute(\"\"\"INSERT INTO employee(name,age,department) VALUES(\"Dharma\",27,\"Embedded Engineer\")\"\"\")\n",
    "\n",
    "connection.commit()"
   ]
  },
  {
   "cell_type": "code",
   "execution_count": 28,
   "metadata": {},
   "outputs": [
    {
     "name": "stdout",
     "output_type": "stream",
     "text": [
      "(None, 'Shahul', 32, 'Data Scientist')\n",
      "(None, 'Shahul', 32, 'Data Scientist')\n",
      "(None, 'Karthik', 31, 'Data Analyst')\n",
      "(None, 'Akhil', 30, 'Data Engineer')\n",
      "(None, 'Bharat', 29, 'ML Engineer')\n",
      "(None, 'Shahul', 32, 'Data Scientist')\n",
      "(None, 'Karthik', 31, 'Data Analyst')\n",
      "(None, 'Akhil', 30, 'Data Engineer')\n",
      "(None, 'Bharat', 29, 'ML Engineer')\n",
      "(None, 'Mahi', 28, 'Software Engineer')\n",
      "(None, 'Dharma', 27, 'Embedded Engineer')\n",
      "(None, 'Shahul', 32, 'Data Scientist')\n",
      "(None, 'Karthik', 31, 'Data Analyst')\n",
      "(None, 'Akhil', 30, 'Data Engineer')\n",
      "(None, 'Bharat', 29, 'ML Engineer')\n",
      "(None, 'Mahi', 28, 'Software Engineer')\n",
      "(None, 'Dharma', 27, 'Embedded Engineer')\n",
      "(None, 'Shahul', 32, 'Data Scientist')\n",
      "(None, 'Karthik', 31, 'Data Analyst')\n",
      "(None, 'Akhil', 30, 'Data Engineer')\n",
      "(None, 'Bharat', 29, 'ML Engineer')\n",
      "(None, 'Mahi', 28, 'Software Engineer')\n",
      "(None, 'Dharma', 27, 'Embedded Engineer')\n"
     ]
    }
   ],
   "source": [
    "#Query the data from sqlite3 table\n",
    "cursor.execute(\"\"\"SELECT * FROM employee\"\"\")\n",
    "rows = cursor.fetchall()\n",
    "for row in rows:\n",
    "    print(row)"
   ]
  },
  {
   "cell_type": "code",
   "execution_count": 29,
   "metadata": {},
   "outputs": [],
   "source": [
    "connection.close()"
   ]
  },
  {
   "cell_type": "code",
   "execution_count": null,
   "metadata": {},
   "outputs": [],
   "source": []
  }
 ],
 "metadata": {
  "kernelspec": {
   "display_name": "python_env",
   "language": "python",
   "name": "python3"
  },
  "language_info": {
   "codemirror_mode": {
    "name": "ipython",
    "version": 3
   },
   "file_extension": ".py",
   "mimetype": "text/x-python",
   "name": "python",
   "nbconvert_exporter": "python",
   "pygments_lexer": "ipython3",
   "version": "3.12.5"
  }
 },
 "nbformat": 4,
 "nbformat_minor": 2
}
