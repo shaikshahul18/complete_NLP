{
 "cells": [
  {
   "cell_type": "markdown",
   "metadata": {},
   "source": [
    "## Polymorphism\n",
    "This is called Polymorphism, because the same function is implemented in other classes which are the child classes, and when you call the \"area\" function in the child class,\n",
    "the code executes the corresponding function from the child class.\n"
   ]
  },
  {
   "cell_type": "code",
   "execution_count": 8,
   "metadata": {},
   "outputs": [],
   "source": [
    "import math\n",
    "class Shape:\n",
    "    def __init__(self) -> None:\n",
    "        pass\n",
    "\n",
    "    def area():\n",
    "        pass\n",
    "\n",
    "class Circle(Shape):\n",
    "    def __init__(self, radius) -> None:\n",
    "       super().__init__()\n",
    "       self.radius = radius\n",
    "    \n",
    "    def area(self):\n",
    "        return math.pi * self.radius * self.radius\n",
    "\n",
    "class Square(Shape):\n",
    "    def __init__(self,side) -> None:\n",
    "       super().__init__()\n",
    "       self.side = side\n",
    "    \n",
    "    def area(self):\n",
    "        return self.side ** 2\n",
    "\n",
    "\n"
   ]
  },
  {
   "cell_type": "code",
   "execution_count": 10,
   "metadata": {},
   "outputs": [
    {
     "name": "stdout",
     "output_type": "stream",
     "text": [
      "12.566370614359172\n",
      "4\n"
     ]
    }
   ],
   "source": [
    "def describe_shape(Shape):\n",
    "    return Shape.area()\n",
    "\n",
    "c1 = Circle(2)\n",
    "s1 = Square(2)\n",
    "\n",
    "print(describe_shape(c1))\n",
    "print(describe_shape(s1))"
   ]
  },
  {
   "cell_type": "code",
   "execution_count": 13,
   "metadata": {},
   "outputs": [
    {
     "name": "stdout",
     "output_type": "stream",
     "text": [
      "Car engine started\n",
      "Bike Engine Started\n",
      "This is car fuel\n",
      "This is bike fuel\n"
     ]
    }
   ],
   "source": [
    "from abc import ABC,abstractmethod\n",
    "\n",
    "class Vehicle(ABC):\n",
    "    @abstractmethod\n",
    "    def start_engine(self):\n",
    "        pass\n",
    "    \n",
    "    #THE BELOW FUNCTION IS A CONCRETE METHOD, MEANING THIS IS FULLY IMPLEMENTED AND COULD BE USED FROM HERE,\n",
    "    # UNLIKE THE ABSTRACT METHOD, WHICH HASN'T BEEN IMPLEMENTED IN THE CURRENT CLASS AND WILL BE IMPLEMENTED IN THE CHILD CLASS.\n",
    "    def fuel_type(self):\n",
    "        return \"Generic Fuel Type.\"\n",
    "    \n",
    "\n",
    "class Car(Vehicle):\n",
    "    def start_engine(self):\n",
    "        print(\"Car engine started\")\n",
    "    \n",
    "    def fuel_type(self):\n",
    "        return \"This is car fuel\"\n",
    "\n",
    "class Bike(Vehicle):\n",
    "    def start_engine(self):\n",
    "        print(\"Bike Engine Started\")\n",
    "    \n",
    "    def fuel_type(self):\n",
    "        return \"This is bike fuel\"\n",
    "\n",
    "c = Car()\n",
    "b = Bike()\n",
    "c.start_engine()\n",
    "b.start_engine()\n",
    "print(c.fuel_type())\n",
    "print(b.fuel_type())"
   ]
  },
  {
   "cell_type": "code",
   "execution_count": null,
   "metadata": {},
   "outputs": [
    {
     "name": "stdout",
     "output_type": "stream",
     "text": [
      "1000\n",
      "Money deposited\n",
      "1500\n",
      "200 Withdrawn!\n",
      "1300\n",
      "Not enough money!\n",
      "1300\n"
     ]
    }
   ],
   "source": [
    "class BankAccount:\n",
    "    def __init__(self,account_number, balance=0) -> None:\n",
    "        self.__account_number = account_number\n",
    "        self.__balance = balance\n",
    "    \n",
    "    def getBalance(self):\n",
    "        return self.__balance    \n",
    "    \n",
    "    def setBalance(self,money):\n",
    "        self.__balance += money\n",
    "    \n",
    "    def withdraw(self,money):\n",
    "        if money <= self.getBalance():\n",
    "            self.setBalance(-1*money)\n",
    "            print(f\"{money} Withdrawn!\")\n",
    "        else:\n",
    "            print(\"Not enough money!\")\n",
    "        \n",
    "    def deposit(self,money):\n",
    "        self.setBalance(money)\n",
    "        print(\"Money deposited\")\n",
    "    \n",
    "account = BankAccount('12345678', 1000)\n",
    "print(account.getBalance())\n",
    "\n",
    "account.deposit(500)\n",
    "print(account.getBalance())\n",
    "\n",
    "account.withdraw(200)\n",
    "print(account.getBalance())\n",
    "\n",
    "account.withdraw(2000) \n",
    "print(account.getBalance())\n",
    "\n"
   ]
  },
  {
   "cell_type": "code",
   "execution_count": 24,
   "metadata": {},
   "outputs": [
    {
     "name": "stdout",
     "output_type": "stream",
     "text": [
      "John 20 S123\n",
      "Alice 22 S123\n"
     ]
    }
   ],
   "source": [
    "class Person:\n",
    "    def __init__(self,name,age) -> None:\n",
    "        self.__name = name\n",
    "        self.__age = age\n",
    "\n",
    "    def getName(self):\n",
    "        return self.__name\n",
    "    def setName(self,name):\n",
    "        self.__name = name\n",
    "    def getAge(self):\n",
    "        return self.__age\n",
    "    def setAge(self,age):\n",
    "        self.__age = age\n",
    "\n",
    "class Student(Person):\n",
    "    def __init__(self, name, age,student_id) -> None:\n",
    "        super().__init__(name, age)\n",
    "        self.student_id = student_id\n",
    "\n",
    "student = Student('John', 20, 'S123')\n",
    "print(student.getName(), student.getAge(), student.student_id)\n",
    "student.setName('Alice')\n",
    "student.setAge(22)\n",
    "print(student.getName(), student.getAge(), student.student_id)"
   ]
  },
  {
   "cell_type": "code",
   "execution_count": 25,
   "metadata": {},
   "outputs": [
    {
     "name": "stdout",
     "output_type": "stream",
     "text": [
      "Bark\n",
      "Meow\n"
     ]
    }
   ],
   "source": [
    "class Animal:\n",
    "    def __init__(self) -> None:\n",
    "        pass\n",
    "    \n",
    "    def speak(self):\n",
    "        pass\n",
    "\n",
    "class Dog(Animal):\n",
    "    def __init__(self) -> None:\n",
    "        super().__init__()\n",
    "\n",
    "    def speak(self):\n",
    "        print(\"Bark\")\n",
    "\n",
    "class Cat(Animal):\n",
    "    def __init__(self) -> None:\n",
    "        super().__init__()\n",
    "    def speak(self):\n",
    "        print(\"Meow\")\n",
    "    \n",
    "animals = [Dog(), Cat()]\n",
    "for animal in animals:\n",
    "    animal.speak()"
   ]
  },
  {
   "cell_type": "code",
   "execution_count": 26,
   "metadata": {},
   "outputs": [],
   "source": [
    "from abc import ABC, abstractmethod\n",
    "\n",
    "class Employee(ABC):\n",
    "    @abstractmethod\n",
    "    def calculate_salary(self):\n",
    "        pass\n",
    "\n",
    "class FullTimeEmployee(Employee):\n",
    "    def __init__(self,salary) -> None:\n",
    "        self.salary = salary\n",
    "\n",
    "    def calculate_salary(self):\n",
    "        return self.salary\n",
    "\n",
    "class PartTimeEmployee(Employee):\n",
    "    def __init__(self,hourly_rate, hours_worked) -> None:\n",
    "        self.hourly_rate = hourly_rate\n",
    "        self.hours_worked = hours_worked\n",
    "    def calculate_salary(self):\n",
    "        return self.hours_worked * self.hourly_rate"
   ]
  },
  {
   "cell_type": "code",
   "execution_count": 27,
   "metadata": {},
   "outputs": [],
   "source": [
    "class Product:\n",
    "    def __init__(self,product_id, name, price) -> None:\n",
    "        self.__product_id = product_id\n",
    "        self.__name = name\n",
    "        self.__price = price\n",
    "    \n",
    "    def get_product_id(self):\n",
    "        return self.__product_id\n",
    "    def setPid(self,product_id):\n",
    "        self.__product_id = product_id\n",
    "    \n",
    "    def getName(self):\n",
    "        return self.__name\n",
    "    def setName(self,name):\n",
    "        self.__name = name\n",
    "    \n",
    "    def getPrice(self):\n",
    "        return self.__price\n",
    "    def setPrice(self,price):\n",
    "        if price >= 0:\n",
    "            self.__price = price\n",
    "        print(\"Price can't be negative.\")"
   ]
  },
  {
   "cell_type": "code",
   "execution_count": 28,
   "metadata": {},
   "outputs": [],
   "source": [
    "class Vector:\n",
    "    def __init__(self,x,y) -> None:\n",
    "        self.x = x\n",
    "        self.y = y\n",
    "    \n",
    "    def __add__(self,other):\n",
    "        return Vector(self.x + other.x , self.y + other.y)\n",
    "    def __str__(self):\n",
    "        return f\"Vector({self.x},{self.y})\""
   ]
  },
  {
   "cell_type": "code",
   "execution_count": null,
   "metadata": {},
   "outputs": [],
   "source": []
  }
 ],
 "metadata": {
  "kernelspec": {
   "display_name": "python_env",
   "language": "python",
   "name": "python3"
  },
  "language_info": {
   "codemirror_mode": {
    "name": "ipython",
    "version": 3
   },
   "file_extension": ".py",
   "mimetype": "text/x-python",
   "name": "python",
   "nbconvert_exporter": "python",
   "pygments_lexer": "ipython3",
   "version": "3.12.5"
  }
 },
 "nbformat": 4,
 "nbformat_minor": 2
}
